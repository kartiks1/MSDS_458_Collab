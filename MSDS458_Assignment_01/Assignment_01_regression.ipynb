{
 "cells": [
  {
   "cell_type": "markdown",
   "metadata": {},
   "source": [
    "# Diamond Price Prediction using Deep Learning\n",
    "\n",
    "This notebook implements a deep learning model to predict diamond prices based on various features. The implementation is derived from the EDA script but focuses on the regression task."
   ]
  },
  {
   "cell_type": "markdown",
   "metadata": {},
   "source": [
    "## Import Required Libraries\n",
    "\n",
    "Import all necessary Python libraries for data manipulation, visualization, and deep learning."
   ]
  },
  {
   "cell_type": "code",
   "execution_count": null,
   "metadata": {},
   "outputs": [],
   "source": [
    "import os\n",
    "os.environ['TF_CPP_MIN_LOG_LEVEL'] = '2'  # Suppress TensorFlow logging\n",
    "import seaborn as sns\n",
    "import pandas as pd\n",
    "import matplotlib.pyplot as plt\n",
    "import numpy as np\n",
    "from sklearn.model_selection import train_test_split\n",
    "from sklearn.preprocessing import StandardScaler, OneHotEncoder\n",
    "from sklearn.compose import ColumnTransformer\n",
    "from sklearn.pipeline import Pipeline\n",
    "from sklearn.metrics import r2_score\n",
    "from tensorflow.keras.models import Sequential\n",
    "from tensorflow.keras.layers import Dense, Input"
   ]
  },
  {
   "cell_type": "markdown",
   "metadata": {},
   "source": [
    "## Data Loading Function\n",
    "\n",
    "Load the diamonds dataset from Seaborn's built-in datasets."
   ]
  },
  {
   "cell_type": "code",
   "execution_count": null,
   "metadata": {},
   "outputs": [],
   "source": [
    "def load_data():\n",
    "    \"\"\"Load the diamonds dataset.\"\"\"\n",
    "    diamonds = sns.load_dataset('diamonds')\n",
    "    return diamonds"
   ]
  },
  {
   "cell_type": "markdown",
   "metadata": {},
   "source": [
    "## Data Information Display Function\n",
    "\n",
    "Display basic information about the dataset including its structure and summary statistics."
   ]
  },
  {
   "cell_type": "code",
   "execution_count": null,
   "metadata": {},
   "outputs": [],
   "source": [
    "def display_data_info(diamonds):\n",
    "    \"\"\"Display information about the dataset.\"\"\"\n",
    "    print(\"\\nDataset Info:\")\n",
    "    print(diamonds.info())\n",
    "    print(\"\\nFirst 5 rows of the dataset:\")\n",
    "    print(diamonds.head())\n",
    "    \n",
    "    print(\"\\nBasic Statistics:\")\n",
    "    print(diamonds.describe())"
   ]
  },
  {
   "cell_type": "markdown",
   "metadata": {},
   "source": [
    "## Categorical Variables Analysis Function\n",
    "\n",
    "Analyze and visualize the distribution of categorical variables (cut, color, clarity) in the dataset."
   ]
  },
  {
   "cell_type": "code",
   "execution_count": null,
   "metadata": {},
   "outputs": [],
   "source": [
    "def analyze_categorical_variables(diamonds):\n",
    "    \"\"\"Analyze categorical variables in the dataset.\"\"\"\n",
    "    categorical_cols = ['cut', 'color', 'clarity']\n",
    "    \n",
    "    for col in categorical_cols:\n",
    "        print(f\"\\n{col.upper()} Distribution:\")\n",
    "        print(diamonds[col].value_counts())\n",
    "        \n",
    "        # Create a bar plot\n",
    "        plt.figure(figsize=(10, 6))\n",
    "        sns.countplot(data=diamonds, x=col)\n",
    "        plt.title(f'Distribution of {col}')\n",
    "        plt.xticks(rotation=45)\n",
    "        plt.tight_layout()\n",
    "        plt.show()"
   ]
  },
  {
   "cell_type": "markdown",
   "metadata": {},
   "source": [
    "## Price Distribution Analysis Function\n",
    "\n",
    "Analyze and visualize the distribution of diamond prices in the dataset."
   ]
  },
  {
   "cell_type": "code",
   "execution_count": null,
   "metadata": {},
   "outputs": [],
   "source": [
    "def analyze_price_distribution(diamonds):\n",
    "    \"\"\"Analyze the distribution of diamond prices.\"\"\"\n",
    "    plt.figure(figsize=(12, 6))\n",
    "    \n",
    "    # Create a histogram with KDE\n",
    "    sns.histplot(data=diamonds, x='price', bins=50, kde=True)\n",
    "    plt.title('Distribution of Diamond Prices')\n",
    "    plt.xlabel('Price')\n",
    "    plt.ylabel('Count')\n",
    "    plt.tight_layout()\n",
    "    plt.show()\n",
    "    \n",
    "    # Print price statistics\n",
    "    print(\"\\nPrice Statistics:\")\n",
    "    print(diamonds['price'].describe())"
   ]
  },
  {
   "cell_type": "markdown",
   "metadata": {},
   "source": [
    "## Carat-Price Relationship Analysis Function\n",
    "\n",
    "Analyze and visualize the relationship between carat and price of diamonds."
   ]
  },
  {
   "cell_type": "code",
   "execution_count": null,
   "metadata": {},
   "outputs": [],
   "source": [
    "def analyze_carat_price_relationship(diamonds):\n",
    "    \"\"\"Analyze the relationship between carat and price.\"\"\"\n",
    "    plt.figure(figsize=(10, 6))\n",
    "    sns.scatterplot(data=diamonds, x='carat', y='price', alpha=0.5)\n",
    "    plt.title('Carat vs Price')\n",
    "    plt.tight_layout()\n",
    "    plt.show()\n",
    "    \n",
    "    # Calculate correlation\n",
    "    correlation = diamonds['carat'].corr(diamonds['price'])\n",
    "    print(f\"\\nCorrelation between carat and price: {correlation:.3f}\")"
   ]
  },
  {
   "cell_type": "markdown",
   "metadata": {},
   "source": [
    "## Cut Impact Analysis Function\n",
    "\n",
    "Analyze how the cut quality affects the price of diamonds."
   ]
  },
  {
   "cell_type": "code",
   "execution_count": null,
   "metadata": {},
   "outputs": [],
   "source": [
    "def analyze_cut_impact(diamonds):\n",
    "    \"\"\"Analyze how cut quality affects price.\"\"\"\n",
    "    plt.figure(figsize=(12, 6))\n",
    "    sns.boxplot(data=diamonds, x='cut', y='price')\n",
    "    plt.title('Price Distribution by Cut Quality')\n",
    "    plt.xticks(rotation=45)\n",
    "    plt.tight_layout()\n",
    "    plt.show()\n",
    "    \n",
    "    # Print average price by cut\n",
    "    print(\"\\nAverage Price by Cut:\")\n",
    "    print(diamonds.groupby('cut')['price'].mean().sort_values(ascending=False))"
   ]
  },
  {
   "cell_type": "markdown",
   "metadata": {},
   "source": [
    "## Correlation Analysis Function\n",
    "\n",
    "Analyze correlations between numerical variables in the dataset."
   ]
  },
  {
   "cell_type": "code",
   "execution_count": null,
   "metadata": {},
   "outputs": [],
   "source": [
    "def analyze_correlations(diamonds):\n",
    "    \"\"\"Analyze correlations between numerical variables.\"\"\"\n",
    "    numerical_cols = diamonds.select_dtypes(include=[np.number]).columns\n",
    "    correlation_matrix = diamonds[numerical_cols].corr()\n",
    "    \n",
    "    plt.figure(figsize=(10, 8))\n",
    "    sns.heatmap(correlation_matrix, annot=True, cmap='coolwarm', center=0)\n",
    "    plt.title('Correlation Matrix of Numerical Variables')\n",
    "    plt.tight_layout()\n",
    "    plt.show()"
   ]
  },
  {
   "cell_type": "markdown",
   "metadata": {},
   "source": [
    "## Model Creation Function\n",
    "\n",
    "Create and compile the neural network model for price prediction."
   ]
  },
  {
   "cell_type": "code",
   "execution_count": null,
   "metadata": {},
   "outputs": [],
   "source": [
    "def create_model(input_dim):\n",
    "    \"\"\"Create and compile the neural network model.\"\"\"\n",
    "    model = Sequential([\n",
    "        Input(shape=(input_dim,)),\n",
    "        Dense(128, activation='relu'),\n",
    "        Dense(64, activation='relu'),\n",
    "        Dense(32, activation='relu'),\n",
    "        Dense(1)\n",
    "    ])\n",
    "    \n",
    "    model.compile(\n",
    "        optimizer='adam',\n",
    "        loss='mse',\n",
    "        metrics=['mae']\n",
    "    )\n",
    "    \n",
    "    return model"
   ]
  },
  {
   "cell_type": "markdown",
   "metadata": {},
   "source": [
    "## Data Preparation Function\n",
    "\n",
    "Prepare the data for model training by handling categorical variables and scaling numerical features."
   ]
  },
  {
   "cell_type": "code",
   "execution_count": null,
   "metadata": {},
   "outputs": [],
   "source": [
    "def prepare_data(diamonds):\n",
    "    \"\"\"Prepare the data for model training.\"\"\"\n",
    "    # Separate features and target\n",
    "    X = diamonds.drop('price', axis=1)\n",
    "    y = diamonds['price']\n",
    "    \n",
    "    # Split the data\n",
    "    X_train, X_test, y_train, y_test = train_test_split(X, y, test_size=0.2, random_state=42)\n",
    "    \n",
    "    # Create preprocessing steps\n",
    "    numerical_features = ['carat', 'depth', 'table', 'x', 'y', 'z']\n",
    "    categorical_features = ['cut', 'color', 'clarity']\n",
    "    \n",
    "    preprocessor = ColumnTransformer(\n",
    "        transformers=[\n",
    "            ('num', StandardScaler(), numerical_features),\n",
    "            ('cat', OneHotEncoder(drop='first', sparse_output=False), categorical_features)\n",
    "        ])\n",
    "    \n",
    "    # Apply preprocessing\n",
    "    X_train_processed = preprocessor.fit_transform(X_train)\n",
    "    X_test_processed = preprocessor.transform(X_test)\n",
    "    \n",
    "    return X_train_processed, X_test_processed, y_train, y_test, preprocessor"
   ]
  },
  {
   "cell_type": "markdown",
   "metadata": {},
   "source": [
    "## Model Training Function\n",
    "\n",
    "Train the neural network model on the prepared data."
   ]
  },
  {
   "cell_type": "code",
   "execution_count": null,
   "metadata": {},
   "outputs": [],
   "source": [
    "def train_model(X_train, y_train):\n",
    "    \"\"\"Train the neural network model.\"\"\"\n",
    "    model = create_model(X_train.shape[1])\n",
    "    \n",
    "    # Train the model\n",
    "    history = model.fit(\n",
    "        X_train, y_train,\n",
    "        epochs=50,\n",
    "        batch_size=32,\n",
    "        validation_split=0.2,\n",
    "        verbose=1\n",
    "    )\n",
    "    \n",
    "    return model, history"
   ]
  },
  {
   "cell_type": "markdown",
   "metadata": {},
   "source": [
    "## Training History Visualization Function\n",
    "\n",
    "Plot the training history of the model, showing loss and MAE over epochs."
   ]
  },
  {
   "cell_type": "code",
   "execution_count": null,
   "metadata": {},
   "outputs": [],
   "source": [
    "def plot_training_history(history):\n",
    "    \"\"\"Plot the training history of the model.\"\"\"\n",
    "    plt.figure(figsize=(12, 4))\n",
    "    \n",
    "    # Plot loss\n",
    "    plt.subplot(1, 2, 1)\n",
    "    plt.plot(history.history['loss'], label='Training Loss')\n",
    "    plt.plot(history.history['val_loss'], label='Validation Loss')\n",
    "    plt.title('Model Loss')\n",
    "    plt.xlabel('Epoch')\n",
    "    plt.ylabel('Loss')\n",
    "    plt.legend()\n",
    "    \n",
    "    # Plot MAE\n",
    "    plt.subplot(1, 2, 2)\n",
    "    plt.plot(history.history['mae'], label='Training MAE')\n",
    "    plt.plot(history.history['val_mae'], label='Validation MAE')\n",
    "    plt.title('Model MAE')\n",
    "    plt.xlabel('Epoch')\n",
    "    plt.ylabel('MAE')\n",
    "    plt.legend()\n",
    "    \n",
    "    plt.tight_layout()\n",
    "    plt.show()"
   ]
  },
  {
   "cell_type": "markdown",
   "metadata": {},
   "source": [
    "## Model Evaluation Function\n",
    "\n",
    "Evaluate the model's performance using various metrics and visualizations."
   ]
  },
  {
   "cell_type": "code",
   "execution_count": null,
   "metadata": {},
   "outputs": [],
   "source": [
    "def evaluate_model(model, X_test, y_test):\n",
    "    \"\"\"Evaluate the model's performance.\"\"\"\n",
    "    # Evaluate the model\n",
    "    test_loss, test_mae = model.evaluate(X_test, y_test)\n",
    "    print(f\"\\nTest MAE: ${test_mae:.2f}\")\n",
    "    \n",
    "    # Make predictions\n",
    "    y_pred = model.predict(X_test)\n",
    "    \n",
    "    # Calculate R-squared score\n",
    "    r2 = r2_score(y_test, y_pred)\n",
    "    print(f\"R-squared Score: {r2:.4f}\")\n",
    "    \n",
    "    # Plot actual vs predicted values\n",
    "    plt.figure(figsize=(10, 6))\n",
    "    plt.scatter(y_test, y_pred, alpha=0.5)\n",
    "    plt.plot([y_test.min(), y_test.max()], [y_test.min(), y_test.max()], 'r--')\n",
    "    plt.xlabel('Actual Price')\n",
    "    plt.ylabel('Predicted Price')\n",
    "    plt.title('Actual vs Predicted Diamond Prices')\n",
    "    plt.tight_layout()\n",
    "    plt.show()"
   ]
  }
 ],
 "metadata": {
  "kernelspec": {
   "display_name": "Python 3",
   "language": "python",
   "name": "python3"
  },
  "language_info": {
   "codemirror_mode": {
    "name": "ipython",
    "version": 3
   },
   "file_extension": ".py",
   "mimetype": "text/x-python",
   "name": "python",
   "nbconvert_exporter": "python",
   "pygments_lexer": "ipython3",
   "version": "3.10.0"
  }
 },
 "nbformat": 4,
 "nbformat_minor": 4
}
